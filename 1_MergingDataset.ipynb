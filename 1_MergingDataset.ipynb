{
  "nbformat": 4,
  "nbformat_minor": 0,
  "metadata": {
    "colab": {
      "provenance": []
    },
    "kernelspec": {
      "name": "python3",
      "display_name": "Python 3"
    },
    "language_info": {
      "name": "python"
    }
  },
  "cells": [
    {
      "cell_type": "markdown",
      "source": [
        "In this code, we explain how to filter out data, select appropriate variables, and perform feature engineering.\n",
        "The steps are:\n",
        "1. Import libraries and read three datasets (liver_df, wl_data_df, followup_df)\n",
        "2. Select appropriate variables from liver_df\n",
        "3. Filter out patients from liver_df\n",
        "4. Perform a feature engineering from wl_data_df, and merge with liver_df\n",
        "5. Encode certain variables from liver_df\n",
        "6. Merge the liver_df with followup_df\n",
        "7. Identify the outcome, store the final dataframe into a new csv file\n"
      ],
      "metadata": {
        "id": "Go3K-pEeFMP9"
      }
    },
    {
      "cell_type": "code",
      "source": [
        "from google.colab import drive\n",
        "drive.mount('/content/drive')\n",
        "import pandas as pd\n",
        "import numpy as np\n",
        "\n",
        "liver_df = pd.read_stata(\"/content/drive/MyDrive/Borealis AI/LIVER_DATA.DTA\")\n",
        "wl_data_df = pd.read_stata(\"/content/drive/MyDrive/Borealis AI/LIVER_WLHISTORY_DATA.DTA\")\n",
        "followup_df = pd.read_stata(\"/content/drive/MyDrive/Borealis AI/Dataset/LIVER_FOLLOWUP_DATA.DTA\")"
      ],
      "metadata": {
        "colab": {
          "base_uri": "https://localhost:8080/"
        },
        "id": "Q-hUv2CMFEhp",
        "outputId": "0e510207-063b-4c07-d1f9-08c1bc85e951"
      },
      "execution_count": 1,
      "outputs": [
        {
          "output_type": "stream",
          "name": "stdout",
          "text": [
            "Drive already mounted at /content/drive; to attempt to forcibly remount, call drive.mount(\"/content/drive\", force_remount=True).\n"
          ]
        },
        {
          "output_type": "stream",
          "name": "stderr",
          "text": [
            "<ipython-input-1-17cafd6a06fb>:7: UnicodeWarning: \n",
            "One or more strings in the dta file could not be decoded using utf-8, and\n",
            "so the fallback encoding of latin-1 is being used.  This can happen when a file\n",
            "has been incorrectly encoded by Stata or some other software. You should verify\n",
            "the string values returned are correct.\n",
            "  wl_data_df = pd.read_stata(\"/content/drive/MyDrive/Borealis AI/LIVER_WLHISTORY_DATA.DTA\")\n"
          ]
        }
      ]
    },
    {
      "cell_type": "markdown",
      "source": [
        "1. In the above code, three datasets were stored into liver_df, wl_data_df and followup_df.\n",
        "- liver_df: baseline patient information, containing either socioeconiomic features (gender, ethnicity), or the initial and final clinical variables (bilirubin level at the registration of the liver transplant, and the bilirubin level right before the liver transplant)\n",
        "- wl_data_df: contains all the clinical values from the waiting list (between the initial and fianl value)\n",
        "- followup_df: contains post-transplant medical check-up values\n",
        "\n",
        "2. We start by selecting necessary features from the liver_df. Features were selected based on the risk adjustment models from Sceintific Registry of Transplant Recipients (SRTR).\n"
      ],
      "metadata": {
        "id": "iSd9jJthKAqj"
      }
    },
    {
      "cell_type": "code",
      "source": [
        "liver_columns = ['AGE', 'AGE_GROUP', 'ABO', 'BACT_PERIT_TCR', 'BMI_CALC', 'DIAB', 'ETHCAT', 'ETHCAT_DON', 'GENDER',\n",
        "           'HGT_CM_CALC', 'LIFE_SUP_TCR', 'MALIG_TCR', 'HCC_DIAGNOSIS_TCR', 'PREV_AB_SURG_TCR',\n",
        "           'TIPSS_TCR', 'INIT_WGT_KG', 'WORK_INCOME_TCR', 'INIT_ALBUMIN',\n",
        "           'FINAL_ALBUMIN', 'INIT_BILIRUBIN', 'FINAL_BILIRUBIN',\n",
        "           'INIT_DIALYSIS_PRIOR_WEEK', 'FINAL_DIALYSIS_PRIOR_WEEK', 'INIT_ENCEPH',\n",
        "           'FINAL_ENCEPH', 'INIT_INR', 'FINAL_INR', 'INIT_SERUM_CREAT',\n",
        "           'FINAL_SERUM_CREAT', 'INIT_SERUM_SODIUM', 'FINAL_SERUM_SODIUM', 'DGN_TCR',\n",
        "           'INIT_MELD_PELD_LAB_SCORE', 'FINAL_MELD_PELD_LAB_SCORE', 'MELD_PELD_LAB_SCORE', 'DAYSWAIT_CHRON',\n",
        "           'GSTATUS', 'GTIME', 'MULTIORG', 'PREV_TX_ANY', 'TX_YEAR', 'REM_CD', 'INIT_MELD_OR_PELD', 'FINAL_MELD_OR_PELD',\n",
        "           'WL_ID_CODE', 'INIT_DATE', 'TX_DATE', 'PT_CODE', 'TRR_ID_CODE']\n",
        "filtered_df = liver_df[liver_columns]\n",
        "filtered_df = filtered_df.replace('', np.nan)"
      ],
      "metadata": {
        "id": "E9GsNTN6KAUc"
      },
      "execution_count": 2,
      "outputs": []
    },
    {
      "cell_type": "markdown",
      "source": [
        "3. We then filter out patietns based on specific criteria:\n",
        "- Patients received transplantation between June 18th, 2018 and June 18th, 2023 (arbitrarily chosen time period)\n",
        "- Adult patients\n",
        "- Patients who received deceased organs\n",
        "- Patients not registered for multi-organ transplantation\n",
        "- Patients with the history of previous transplantation\n",
        "- Patients who used MELD system\n"
      ],
      "metadata": {
        "id": "U2hubIG7MtvA"
      }
    },
    {
      "cell_type": "code",
      "source": [
        "filtered_df = filtered_df[filtered_df['INIT_DATE'] >= pd.Timestamp('2018-06-18')]\n",
        "filtered_df = filtered_df[filtered_df['INIT_DATE'] <= pd.Timestamp('2023-06-18')]\n",
        "filtered_df = filtered_df[filtered_df['AGE_GROUP'] == 'A']\n",
        "filtered_df = filtered_df[filtered_df['MULTIORG'] != 'Y']\n",
        "filtered_df = filtered_df[filtered_df['PREV_TX_ANY'] == 'N']\n",
        "filtered_df = filtered_df[filtered_df['REM_CD'] == 4]\n",
        "filtered_df = filtered_df[filtered_df['INIT_MELD_OR_PELD'] == 'MELD']\n",
        "filtered_df = filtered_df[filtered_df['FINAL_MELD_OR_PELD'] == 'MELD']\n",
        "filtered_df.shape"
      ],
      "metadata": {
        "colab": {
          "base_uri": "https://localhost:8080/"
        },
        "id": "tcYtHbRTMpCb",
        "outputId": "8b97aedb-895a-49c5-d95c-9e793780fbdd"
      },
      "execution_count": 3,
      "outputs": [
        {
          "output_type": "execute_result",
          "data": {
            "text/plain": [
              "(33120, 49)"
            ]
          },
          "metadata": {},
          "execution_count": 3
        }
      ]
    },
    {
      "cell_type": "markdown",
      "source": [
        "4. Perform a feature engineering in waiting list data\n",
        "- We will first only select patients that are in the final cohort (filtered_df)\n",
        "- wl_data_df and filtered_df is connected by WL_ID_CODE, which is a unique patient identifier for waiting list history\n",
        "- We will calculate the linear slope of clinical data of five variables: bilirubin, albumin, creatinine, sodium and INR"
      ],
      "metadata": {
        "id": "u5htk-dEOJUi"
      }
    },
    {
      "cell_type": "code",
      "source": [
        "import datetime\n",
        "\n",
        "start_date = '2018-06-18'\n",
        "end_date = '2023-06-18'\n",
        "\n",
        "filt_wl_df = wl_data_df[(wl_data_df['CHG_DATE'] >= start_date) & (wl_data_df['CHG_DATE'] <= end_date)]\n",
        "grouped = filt_wl_df.groupby('WL_ID_CODE')\n",
        "\n",
        "def calculate_slope(group, column_name):\n",
        "    if len(group) == 1:\n",
        "        return 0\n",
        "    else:\n",
        "        x = np.arange(len(group))\n",
        "        y = group[column_name].values\n",
        "        slope, _ = np.polyfit(x, y, 1)\n",
        "        return slope\n",
        "\n",
        "columns_to_calculate = ['BILIRUBIN', 'ALBUMIN', 'SERUM_SODIUM', 'INR', 'SERUM_CREAT']\n",
        "\n",
        "slopes_df = pd.DataFrame()\n",
        "\n",
        "for column in columns_to_calculate:\n",
        "    slopes = grouped.apply(calculate_slope, column_name=column).reset_index(name=f'{column}_SLOPE')\n",
        "    slopes_df = pd.concat([slopes_df, slopes[f'{column}_SLOPE']], axis=1)\n",
        "\n",
        "slopes_df['WL_ID_CODE'] = grouped.groups.keys()\n",
        "\n",
        "final_df = pd.merge(slopes_df, filtered_df, on = 'WL_ID_CODE')"
      ],
      "metadata": {
        "id": "sryAYpERFOaj"
      },
      "execution_count": 4,
      "outputs": []
    },
    {
      "cell_type": "markdown",
      "source": [
        "5. Now we encode certian variables from liver_df. Before we do that, we will drop some columns that are no longer necessary"
      ],
      "metadata": {
        "id": "drGROW3SR6TC"
      }
    },
    {
      "cell_type": "code",
      "source": [
        "final_df.drop(['WL_ID_CODE', 'AGE_GROUP', 'MULTIORG', 'PREV_TX_ANY', 'TX_YEAR', 'REM_CD', 'INIT_MELD_OR_PELD', 'INIT_DATE'], axis = 1, inplace = True)\n",
        "final_df.columns"
      ],
      "metadata": {
        "colab": {
          "base_uri": "https://localhost:8080/"
        },
        "id": "z1xAhFcMS5Kj",
        "outputId": "dabd9d12-d4f7-4db0-fd5d-f21887baff9c"
      },
      "execution_count": 5,
      "outputs": [
        {
          "output_type": "execute_result",
          "data": {
            "text/plain": [
              "Index(['BILIRUBIN_SLOPE', 'ALBUMIN_SLOPE', 'SERUM_SODIUM_SLOPE', 'INR_SLOPE',\n",
              "       'SERUM_CREAT_SLOPE', 'AGE', 'ABO', 'BACT_PERIT_TCR', 'BMI_CALC', 'DIAB',\n",
              "       'ETHCAT', 'ETHCAT_DON', 'GENDER', 'HGT_CM_CALC', 'LIFE_SUP_TCR',\n",
              "       'MALIG_TCR', 'HCC_DIAGNOSIS_TCR', 'PREV_AB_SURG_TCR', 'TIPSS_TCR',\n",
              "       'INIT_WGT_KG', 'WORK_INCOME_TCR', 'INIT_ALBUMIN', 'FINAL_ALBUMIN',\n",
              "       'INIT_BILIRUBIN', 'FINAL_BILIRUBIN', 'INIT_DIALYSIS_PRIOR_WEEK',\n",
              "       'FINAL_DIALYSIS_PRIOR_WEEK', 'INIT_ENCEPH', 'FINAL_ENCEPH', 'INIT_INR',\n",
              "       'FINAL_INR', 'INIT_SERUM_CREAT', 'FINAL_SERUM_CREAT',\n",
              "       'INIT_SERUM_SODIUM', 'FINAL_SERUM_SODIUM', 'DGN_TCR',\n",
              "       'INIT_MELD_PELD_LAB_SCORE', 'FINAL_MELD_PELD_LAB_SCORE',\n",
              "       'MELD_PELD_LAB_SCORE', 'DAYSWAIT_CHRON', 'GSTATUS', 'GTIME',\n",
              "       'FINAL_MELD_OR_PELD', 'TX_DATE', 'PT_CODE', 'TRR_ID_CODE'],\n",
              "      dtype='object')"
            ]
          },
          "metadata": {},
          "execution_count": 5
        }
      ]
    },
    {
      "cell_type": "code",
      "source": [
        "# encoding values for diabetes\n",
        "diab_map = {\n",
        "    1: 'N',\n",
        "    2: 'Type1',\n",
        "    3: 'Type2',\n",
        "    4: 'Other',\n",
        "    5: 'Other',\n",
        "    998: 'Other'\n",
        "}\n",
        "final_df['DIAB'] = final_df['DIAB'].map(diab_map)\n",
        "\n",
        "# encoding values for ethnicity\n",
        "eth_map = {\n",
        "    1: 'White',\n",
        "    2: 'Black',\n",
        "    4: 'Hispanic',\n",
        "    5: 'Asian',\n",
        "    6: 'Native',\n",
        "    9: 'Multiracial'\n",
        "}\n",
        "final_df['ETHCAT'] = final_df['ETHCAT'].map(eth_map)\n",
        "final_df['ETHCAT_DON'] = final_df['ETHCAT_DON'].map(eth_map)\n",
        "\n",
        "# encoding values for blood type:\n",
        "blood_map = {\n",
        "    'A1': 'A',\n",
        "    'A1B': 'AB',\n",
        "    'A2': 'A',\n",
        "    'A2B': 'AB',\n",
        "    'A': 'A',\n",
        "    'AB': 'AB',\n",
        "    'O': 'O',\n",
        "    'B': 'B'\n",
        "}\n",
        "final_df['ABO'] = final_df['ABO'].map(blood_map)"
      ],
      "metadata": {
        "id": "ksfMibpwSymU"
      },
      "execution_count": 6,
      "outputs": []
    },
    {
      "cell_type": "markdown",
      "source": [
        "6. Merge the followup data with the original data. TRR_ID_CODE is a unique patient identifier between liver_df and followup_df"
      ],
      "metadata": {
        "id": "bx3z0Ba9THkg"
      }
    },
    {
      "cell_type": "code",
      "source": [
        "fdf = pd.merge(followup_df, final_df[['TRR_ID_CODE', 'TX_DATE']], on = 'TRR_ID_CODE', how = 'left')\n",
        "fdf = fdf[(fdf['TRR_ID_CODE']).isin(final_df['TRR_ID_CODE'].values)]\n",
        "fdf[['TRR_ID_CODE', 'TX_DATE', 'PX_STAT_DATE', 'GRF_FAIL_DATE']]"
      ],
      "metadata": {
        "colab": {
          "base_uri": "https://localhost:8080/",
          "height": 423
        },
        "id": "HdWkDn57RZBS",
        "outputId": "1a75d4b0-d869-4027-8850-4d8f78282fef"
      },
      "execution_count": 7,
      "outputs": [
        {
          "output_type": "execute_result",
          "data": {
            "text/plain": [
              "        TRR_ID_CODE    TX_DATE PX_STAT_DATE GRF_FAIL_DATE\n",
              "1487699     A774971 2018-06-21   2018-12-24           NaT\n",
              "1487700     A774971 2018-06-21   2019-06-20           NaT\n",
              "1487701     A774971 2018-06-21   2020-06-24           NaT\n",
              "1487702     A774971 2018-06-21   2020-06-24           NaT\n",
              "1487703     A774971 2018-06-21   2021-07-01           NaT\n",
              "...             ...        ...          ...           ...\n",
              "1674435     A984208 2023-07-24   2023-08-21           NaT\n",
              "1674599     A984814 2023-07-28   2023-09-17           NaT\n",
              "1674685     A985443 2023-07-29   2023-07-29           NaT\n",
              "1675150     A987079 2023-08-13   2023-09-30           NaT\n",
              "1676036     A990387 2023-09-13   2023-10-18           NaT\n",
              "\n",
              "[89673 rows x 4 columns]"
            ],
            "text/html": [
              "\n",
              "  <div id=\"df-7c4aa9c4-a6bb-4bfb-b486-c6da105fa64d\" class=\"colab-df-container\">\n",
              "    <div>\n",
              "<style scoped>\n",
              "    .dataframe tbody tr th:only-of-type {\n",
              "        vertical-align: middle;\n",
              "    }\n",
              "\n",
              "    .dataframe tbody tr th {\n",
              "        vertical-align: top;\n",
              "    }\n",
              "\n",
              "    .dataframe thead th {\n",
              "        text-align: right;\n",
              "    }\n",
              "</style>\n",
              "<table border=\"1\" class=\"dataframe\">\n",
              "  <thead>\n",
              "    <tr style=\"text-align: right;\">\n",
              "      <th></th>\n",
              "      <th>TRR_ID_CODE</th>\n",
              "      <th>TX_DATE</th>\n",
              "      <th>PX_STAT_DATE</th>\n",
              "      <th>GRF_FAIL_DATE</th>\n",
              "    </tr>\n",
              "  </thead>\n",
              "  <tbody>\n",
              "    <tr>\n",
              "      <th>1487699</th>\n",
              "      <td>A774971</td>\n",
              "      <td>2018-06-21</td>\n",
              "      <td>2018-12-24</td>\n",
              "      <td>NaT</td>\n",
              "    </tr>\n",
              "    <tr>\n",
              "      <th>1487700</th>\n",
              "      <td>A774971</td>\n",
              "      <td>2018-06-21</td>\n",
              "      <td>2019-06-20</td>\n",
              "      <td>NaT</td>\n",
              "    </tr>\n",
              "    <tr>\n",
              "      <th>1487701</th>\n",
              "      <td>A774971</td>\n",
              "      <td>2018-06-21</td>\n",
              "      <td>2020-06-24</td>\n",
              "      <td>NaT</td>\n",
              "    </tr>\n",
              "    <tr>\n",
              "      <th>1487702</th>\n",
              "      <td>A774971</td>\n",
              "      <td>2018-06-21</td>\n",
              "      <td>2020-06-24</td>\n",
              "      <td>NaT</td>\n",
              "    </tr>\n",
              "    <tr>\n",
              "      <th>1487703</th>\n",
              "      <td>A774971</td>\n",
              "      <td>2018-06-21</td>\n",
              "      <td>2021-07-01</td>\n",
              "      <td>NaT</td>\n",
              "    </tr>\n",
              "    <tr>\n",
              "      <th>...</th>\n",
              "      <td>...</td>\n",
              "      <td>...</td>\n",
              "      <td>...</td>\n",
              "      <td>...</td>\n",
              "    </tr>\n",
              "    <tr>\n",
              "      <th>1674435</th>\n",
              "      <td>A984208</td>\n",
              "      <td>2023-07-24</td>\n",
              "      <td>2023-08-21</td>\n",
              "      <td>NaT</td>\n",
              "    </tr>\n",
              "    <tr>\n",
              "      <th>1674599</th>\n",
              "      <td>A984814</td>\n",
              "      <td>2023-07-28</td>\n",
              "      <td>2023-09-17</td>\n",
              "      <td>NaT</td>\n",
              "    </tr>\n",
              "    <tr>\n",
              "      <th>1674685</th>\n",
              "      <td>A985443</td>\n",
              "      <td>2023-07-29</td>\n",
              "      <td>2023-07-29</td>\n",
              "      <td>NaT</td>\n",
              "    </tr>\n",
              "    <tr>\n",
              "      <th>1675150</th>\n",
              "      <td>A987079</td>\n",
              "      <td>2023-08-13</td>\n",
              "      <td>2023-09-30</td>\n",
              "      <td>NaT</td>\n",
              "    </tr>\n",
              "    <tr>\n",
              "      <th>1676036</th>\n",
              "      <td>A990387</td>\n",
              "      <td>2023-09-13</td>\n",
              "      <td>2023-10-18</td>\n",
              "      <td>NaT</td>\n",
              "    </tr>\n",
              "  </tbody>\n",
              "</table>\n",
              "<p>89673 rows × 4 columns</p>\n",
              "</div>\n",
              "    <div class=\"colab-df-buttons\">\n",
              "\n",
              "  <div class=\"colab-df-container\">\n",
              "    <button class=\"colab-df-convert\" onclick=\"convertToInteractive('df-7c4aa9c4-a6bb-4bfb-b486-c6da105fa64d')\"\n",
              "            title=\"Convert this dataframe to an interactive table.\"\n",
              "            style=\"display:none;\">\n",
              "\n",
              "  <svg xmlns=\"http://www.w3.org/2000/svg\" height=\"24px\" viewBox=\"0 -960 960 960\">\n",
              "    <path d=\"M120-120v-720h720v720H120Zm60-500h600v-160H180v160Zm220 220h160v-160H400v160Zm0 220h160v-160H400v160ZM180-400h160v-160H180v160Zm440 0h160v-160H620v160ZM180-180h160v-160H180v160Zm440 0h160v-160H620v160Z\"/>\n",
              "  </svg>\n",
              "    </button>\n",
              "\n",
              "  <style>\n",
              "    .colab-df-container {\n",
              "      display:flex;\n",
              "      gap: 12px;\n",
              "    }\n",
              "\n",
              "    .colab-df-convert {\n",
              "      background-color: #E8F0FE;\n",
              "      border: none;\n",
              "      border-radius: 50%;\n",
              "      cursor: pointer;\n",
              "      display: none;\n",
              "      fill: #1967D2;\n",
              "      height: 32px;\n",
              "      padding: 0 0 0 0;\n",
              "      width: 32px;\n",
              "    }\n",
              "\n",
              "    .colab-df-convert:hover {\n",
              "      background-color: #E2EBFA;\n",
              "      box-shadow: 0px 1px 2px rgba(60, 64, 67, 0.3), 0px 1px 3px 1px rgba(60, 64, 67, 0.15);\n",
              "      fill: #174EA6;\n",
              "    }\n",
              "\n",
              "    .colab-df-buttons div {\n",
              "      margin-bottom: 4px;\n",
              "    }\n",
              "\n",
              "    [theme=dark] .colab-df-convert {\n",
              "      background-color: #3B4455;\n",
              "      fill: #D2E3FC;\n",
              "    }\n",
              "\n",
              "    [theme=dark] .colab-df-convert:hover {\n",
              "      background-color: #434B5C;\n",
              "      box-shadow: 0px 1px 3px 1px rgba(0, 0, 0, 0.15);\n",
              "      filter: drop-shadow(0px 1px 2px rgba(0, 0, 0, 0.3));\n",
              "      fill: #FFFFFF;\n",
              "    }\n",
              "  </style>\n",
              "\n",
              "    <script>\n",
              "      const buttonEl =\n",
              "        document.querySelector('#df-7c4aa9c4-a6bb-4bfb-b486-c6da105fa64d button.colab-df-convert');\n",
              "      buttonEl.style.display =\n",
              "        google.colab.kernel.accessAllowed ? 'block' : 'none';\n",
              "\n",
              "      async function convertToInteractive(key) {\n",
              "        const element = document.querySelector('#df-7c4aa9c4-a6bb-4bfb-b486-c6da105fa64d');\n",
              "        const dataTable =\n",
              "          await google.colab.kernel.invokeFunction('convertToInteractive',\n",
              "                                                    [key], {});\n",
              "        if (!dataTable) return;\n",
              "\n",
              "        const docLinkHtml = 'Like what you see? Visit the ' +\n",
              "          '<a target=\"_blank\" href=https://colab.research.google.com/notebooks/data_table.ipynb>data table notebook</a>'\n",
              "          + ' to learn more about interactive tables.';\n",
              "        element.innerHTML = '';\n",
              "        dataTable['output_type'] = 'display_data';\n",
              "        await google.colab.output.renderOutput(dataTable, element);\n",
              "        const docLink = document.createElement('div');\n",
              "        docLink.innerHTML = docLinkHtml;\n",
              "        element.appendChild(docLink);\n",
              "      }\n",
              "    </script>\n",
              "  </div>\n",
              "\n",
              "\n",
              "<div id=\"df-e0981646-7caa-42b1-bee7-f58e0106da44\">\n",
              "  <button class=\"colab-df-quickchart\" onclick=\"quickchart('df-e0981646-7caa-42b1-bee7-f58e0106da44')\"\n",
              "            title=\"Suggest charts\"\n",
              "            style=\"display:none;\">\n",
              "\n",
              "<svg xmlns=\"http://www.w3.org/2000/svg\" height=\"24px\"viewBox=\"0 0 24 24\"\n",
              "     width=\"24px\">\n",
              "    <g>\n",
              "        <path d=\"M19 3H5c-1.1 0-2 .9-2 2v14c0 1.1.9 2 2 2h14c1.1 0 2-.9 2-2V5c0-1.1-.9-2-2-2zM9 17H7v-7h2v7zm4 0h-2V7h2v10zm4 0h-2v-4h2v4z\"/>\n",
              "    </g>\n",
              "</svg>\n",
              "  </button>\n",
              "\n",
              "<style>\n",
              "  .colab-df-quickchart {\n",
              "      --bg-color: #E8F0FE;\n",
              "      --fill-color: #1967D2;\n",
              "      --hover-bg-color: #E2EBFA;\n",
              "      --hover-fill-color: #174EA6;\n",
              "      --disabled-fill-color: #AAA;\n",
              "      --disabled-bg-color: #DDD;\n",
              "  }\n",
              "\n",
              "  [theme=dark] .colab-df-quickchart {\n",
              "      --bg-color: #3B4455;\n",
              "      --fill-color: #D2E3FC;\n",
              "      --hover-bg-color: #434B5C;\n",
              "      --hover-fill-color: #FFFFFF;\n",
              "      --disabled-bg-color: #3B4455;\n",
              "      --disabled-fill-color: #666;\n",
              "  }\n",
              "\n",
              "  .colab-df-quickchart {\n",
              "    background-color: var(--bg-color);\n",
              "    border: none;\n",
              "    border-radius: 50%;\n",
              "    cursor: pointer;\n",
              "    display: none;\n",
              "    fill: var(--fill-color);\n",
              "    height: 32px;\n",
              "    padding: 0;\n",
              "    width: 32px;\n",
              "  }\n",
              "\n",
              "  .colab-df-quickchart:hover {\n",
              "    background-color: var(--hover-bg-color);\n",
              "    box-shadow: 0 1px 2px rgba(60, 64, 67, 0.3), 0 1px 3px 1px rgba(60, 64, 67, 0.15);\n",
              "    fill: var(--button-hover-fill-color);\n",
              "  }\n",
              "\n",
              "  .colab-df-quickchart-complete:disabled,\n",
              "  .colab-df-quickchart-complete:disabled:hover {\n",
              "    background-color: var(--disabled-bg-color);\n",
              "    fill: var(--disabled-fill-color);\n",
              "    box-shadow: none;\n",
              "  }\n",
              "\n",
              "  .colab-df-spinner {\n",
              "    border: 2px solid var(--fill-color);\n",
              "    border-color: transparent;\n",
              "    border-bottom-color: var(--fill-color);\n",
              "    animation:\n",
              "      spin 1s steps(1) infinite;\n",
              "  }\n",
              "\n",
              "  @keyframes spin {\n",
              "    0% {\n",
              "      border-color: transparent;\n",
              "      border-bottom-color: var(--fill-color);\n",
              "      border-left-color: var(--fill-color);\n",
              "    }\n",
              "    20% {\n",
              "      border-color: transparent;\n",
              "      border-left-color: var(--fill-color);\n",
              "      border-top-color: var(--fill-color);\n",
              "    }\n",
              "    30% {\n",
              "      border-color: transparent;\n",
              "      border-left-color: var(--fill-color);\n",
              "      border-top-color: var(--fill-color);\n",
              "      border-right-color: var(--fill-color);\n",
              "    }\n",
              "    40% {\n",
              "      border-color: transparent;\n",
              "      border-right-color: var(--fill-color);\n",
              "      border-top-color: var(--fill-color);\n",
              "    }\n",
              "    60% {\n",
              "      border-color: transparent;\n",
              "      border-right-color: var(--fill-color);\n",
              "    }\n",
              "    80% {\n",
              "      border-color: transparent;\n",
              "      border-right-color: var(--fill-color);\n",
              "      border-bottom-color: var(--fill-color);\n",
              "    }\n",
              "    90% {\n",
              "      border-color: transparent;\n",
              "      border-bottom-color: var(--fill-color);\n",
              "    }\n",
              "  }\n",
              "</style>\n",
              "\n",
              "  <script>\n",
              "    async function quickchart(key) {\n",
              "      const quickchartButtonEl =\n",
              "        document.querySelector('#' + key + ' button');\n",
              "      quickchartButtonEl.disabled = true;  // To prevent multiple clicks.\n",
              "      quickchartButtonEl.classList.add('colab-df-spinner');\n",
              "      try {\n",
              "        const charts = await google.colab.kernel.invokeFunction(\n",
              "            'suggestCharts', [key], {});\n",
              "      } catch (error) {\n",
              "        console.error('Error during call to suggestCharts:', error);\n",
              "      }\n",
              "      quickchartButtonEl.classList.remove('colab-df-spinner');\n",
              "      quickchartButtonEl.classList.add('colab-df-quickchart-complete');\n",
              "    }\n",
              "    (() => {\n",
              "      let quickchartButtonEl =\n",
              "        document.querySelector('#df-e0981646-7caa-42b1-bee7-f58e0106da44 button');\n",
              "      quickchartButtonEl.style.display =\n",
              "        google.colab.kernel.accessAllowed ? 'block' : 'none';\n",
              "    })();\n",
              "  </script>\n",
              "</div>\n",
              "\n",
              "    </div>\n",
              "  </div>\n"
            ],
            "application/vnd.google.colaboratory.intrinsic+json": {
              "type": "dataframe",
              "summary": "{\n  \"name\": \"fdf[['TRR_ID_CODE', 'TX_DATE', 'PX_STAT_DATE', 'GRF_FAIL_DATE']]\",\n  \"rows\": 89673,\n  \"fields\": [\n    {\n      \"column\": \"TRR_ID_CODE\",\n      \"properties\": {\n        \"dtype\": \"category\",\n        \"num_unique_values\": 29539,\n        \"samples\": [\n          \"A892243\",\n          \"A963992\",\n          \"A941913\"\n        ],\n        \"semantic_type\": \"\",\n        \"description\": \"\"\n      }\n    },\n    {\n      \"column\": \"TX_DATE\",\n      \"properties\": {\n        \"dtype\": \"date\",\n        \"min\": \"2018-06-21 00:00:00\",\n        \"max\": \"2023-09-13 00:00:00\",\n        \"num_unique_values\": 1802,\n        \"samples\": [\n          \"2023-06-22 00:00:00\",\n          \"2019-05-06 00:00:00\",\n          \"2021-04-22 00:00:00\"\n        ],\n        \"semantic_type\": \"\",\n        \"description\": \"\"\n      }\n    },\n    {\n      \"column\": \"PX_STAT_DATE\",\n      \"properties\": {\n        \"dtype\": \"date\",\n        \"min\": \"2018-08-23 00:00:00\",\n        \"max\": \"2024-01-12 00:00:00\",\n        \"num_unique_values\": 1838,\n        \"samples\": [\n          \"2022-01-01 00:00:00\",\n          \"2023-11-13 00:00:00\",\n          \"2020-11-18 00:00:00\"\n        ],\n        \"semantic_type\": \"\",\n        \"description\": \"\"\n      }\n    },\n    {\n      \"column\": \"GRF_FAIL_DATE\",\n      \"properties\": {\n        \"dtype\": \"date\",\n        \"min\": \"2018-09-27 00:00:00\",\n        \"max\": \"2023-10-20 00:00:00\",\n        \"num_unique_values\": 529,\n        \"samples\": [\n          \"2020-04-22 00:00:00\",\n          \"2022-12-05 00:00:00\",\n          \"2020-03-09 00:00:00\"\n        ],\n        \"semantic_type\": \"\",\n        \"description\": \"\"\n      }\n    }\n  ]\n}"
            }
          },
          "metadata": {},
          "execution_count": 7
        }
      ]
    },
    {
      "cell_type": "code",
      "source": [
        "def filter_dates_180(row):\n",
        "    within_180_days = row['PX_STAT_DATE'] <= (row['TX_DATE'] + pd.Timedelta(days=180))\n",
        "    before_grf_fail = pd.isnull(row['GRF_FAIL_DATE']) or row['PX_STAT_DATE'] < row['GRF_FAIL_DATE']\n",
        "    return within_180_days and before_grf_fail\n",
        "\n",
        "fdf_180 = fdf[fdf.apply(filter_dates_180, axis = 1)]\n",
        "fdf_180 = fdf_180.sort_values(by = ['TRR_ID_CODE', 'PX_STAT_DATE'])\n",
        "fdf_180 = fdf_180.drop_duplicates(subset = ['TRR_ID_CODE'], keep = 'last')\n",
        "# PX_STAT_DATE is a date of medical checkup, so within_180_days check if there is any medical checkup value within 180 days of transplantation\n",
        "# before_grf_fail makes sure that we are only getting a medical check-up data that is BEFORE the graft failre date"
      ],
      "metadata": {
        "id": "q4zKUI-XTOYd"
      },
      "execution_count": 8,
      "outputs": []
    },
    {
      "cell_type": "code",
      "source": [
        "fdf_180 = fdf_180[['BMI', 'CREAT', 'HBSAG', 'HBV_CORE', 'HBV_DNA', 'HCV_NAT', 'HCV_SEROLOGY', 'HIV_NAT', 'HIV_SEROLOGY', 'TBILI', 'TRR_ID_CODE']]\n",
        "final_180 = pd.merge(final_df, fdf_180, on = 'TRR_ID_CODE', how = 'left')"
      ],
      "metadata": {
        "id": "K23Mw4NPTv1v"
      },
      "execution_count": 9,
      "outputs": []
    },
    {
      "cell_type": "markdown",
      "source": [
        "7. Identify the outcome, store the dataset into a separate csv file"
      ],
      "metadata": {
        "id": "c4JsYBNHUcIU"
      }
    },
    {
      "cell_type": "code",
      "source": [
        "final_180['180_OUTCOME'] = np.where((final_180['GSTATUS'] == 1) & (final_180['GTIME'] <= 180), 1, 0)\n",
        "final_180.drop(['GSTATUS', 'GTIME'], axis = 1)\n",
        "final_180.to_csv(\"final_180.csv\")"
      ],
      "metadata": {
        "id": "tbOybIYBUe8v"
      },
      "execution_count": 10,
      "outputs": []
    }
  ]
}